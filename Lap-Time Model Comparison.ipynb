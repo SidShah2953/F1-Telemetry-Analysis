{
 "cells": [
  {
   "cell_type": "code",
   "execution_count": 1,
   "metadata": {},
   "outputs": [],
   "source": [
    "import pandas as pd\n",
    "from helpers.misc import display_dict\n",
    "from helpers.modelComparison import evaluate_model\n",
    "from sklearn.model_selection import train_test_split, GridSearchCV\n",
    "from sklearn.linear_model import LinearRegression\n",
    "from sklearn.tree import DecisionTreeRegressor\n",
    "from sklearn.ensemble import RandomForestRegressor"
   ]
  },
  {
   "cell_type": "code",
   "execution_count": 2,
   "metadata": {},
   "outputs": [],
   "source": [
    "input_path = \"Data/\""
   ]
  },
  {
   "cell_type": "code",
   "execution_count": 3,
   "metadata": {},
   "outputs": [],
   "source": [
    "df = pd.read_excel(input_path + 'Data.xlsx')\n",
    "\n",
    "# Separate features and target\n",
    "X = df.drop('LapTime', axis=1)\n",
    "features = X.copy()\\\n",
    "            .drop(['year', 'round', 'DriverNumber'], axis=1)\n",
    "y = df['LapTime']\n",
    "\n",
    "# Split data\n",
    "X_train, X_test, y_train, y_test = \\\n",
    "            train_test_split(\n",
    "                features, y, \n",
    "                test_size=0.2, \n",
    "                random_state=42\n",
    "            )"
   ]
  },
  {
   "cell_type": "markdown",
   "metadata": {},
   "source": [
    "# Linear Regression"
   ]
  },
  {
   "cell_type": "code",
   "execution_count": 4,
   "metadata": {},
   "outputs": [
    {
     "name": "stdout",
     "output_type": "stream",
     "text": [
      "Linear Regression Metrics:\n",
      "\t- Mean Absolute Error: 3.9319\n",
      "\t- R-squared Score: 0.7397\n"
     ]
    }
   ],
   "source": [
    "lr_model = LinearRegression()\n",
    "lr_model.fit(X_train, y_train)\n",
    "lr_pred = lr_model.predict(X_test)\n",
    "evaluate_model(y_test, lr_pred, \"Linear Regression\")"
   ]
  },
  {
   "cell_type": "markdown",
   "metadata": {},
   "source": [
    "# Decision Tree"
   ]
  },
  {
   "cell_type": "markdown",
   "metadata": {},
   "source": [
    "## Hyperparameter Tuning"
   ]
  },
  {
   "cell_type": "code",
   "execution_count": 5,
   "metadata": {},
   "outputs": [
    {
     "name": "stdout",
     "output_type": "stream",
     "text": [
      "Best Decision Tree Parameters:\n",
      "\t- max_depth: 20.0000\n",
      "\t- min_samples_leaf: 2.0000\n",
      "\t- min_samples_split: 10.0000\n"
     ]
    }
   ],
   "source": [
    "dt_param_grid = {\n",
    "    'max_depth': [5, 10, 15, 20, 50],\n",
    "    'min_samples_split': [2, 5, 10],\n",
    "    'min_samples_leaf': [1, 2, 4]\n",
    "}\n",
    "dt_grid_search = GridSearchCV(\n",
    "    DecisionTreeRegressor(random_state=42), \n",
    "    dt_param_grid, \n",
    "    cv=5, \n",
    "    scoring='neg_mean_absolute_error'\n",
    ")\n",
    "dt_grid_search.fit(X_train, y_train)\n",
    "display_dict(\n",
    "                dt_grid_search.best_params_,\n",
    "                title=\"Best Decision Tree Parameters:\"\n",
    "            )"
   ]
  },
  {
   "cell_type": "code",
   "execution_count": 6,
   "metadata": {},
   "outputs": [
    {
     "name": "stdout",
     "output_type": "stream",
     "text": [
      "Decision Tree Metrics:\n",
      "\t- Mean Absolute Error: 0.9487\n",
      "\t- R-squared Score: 0.9478\n"
     ]
    }
   ],
   "source": [
    "dt_best_model = dt_grid_search.best_estimator_\n",
    "dt_pred = dt_best_model.predict(X_test)\n",
    "evaluate_model(y_test, dt_pred, \"Decision Tree\")"
   ]
  },
  {
   "cell_type": "markdown",
   "metadata": {},
   "source": [
    "## Feature Importance"
   ]
  },
  {
   "cell_type": "code",
   "execution_count": 7,
   "metadata": {},
   "outputs": [
    {
     "name": "stdout",
     "output_type": "stream",
     "text": [
      "Decision Tree Feature Importance\n",
      "\t- TrackLength: 0.5367\n",
      "\t- ElevationSD: 0.1957\n",
      "\t- CurvatureSD: 0.0533\n",
      "\t- NumberOfCorners: 0.0359\n",
      "\t- Compound_HARD: 0.0316\n",
      "\t- LapsLeft: 0.0199\n",
      "\t- SurfaceGripIndex: 0.0188\n",
      "\t- Rain: 0.0185\n",
      "\t- WindChillFactor: 0.0177\n",
      "\t- TotalCurvature: 0.0099\n",
      "\t- TrackTemp: 0.0098\n",
      "\t- Compound_MEDIUM: 0.0093\n",
      "\t- Compound_INTERMEDIATE: 0.0093\n",
      "\t- Compound_SOFT: 0.0091\n",
      "\t- TotalElevationChange: 0.0068\n",
      "\t- BestLapTimeDelta: 0.0061\n",
      "\t- AirTemp: 0.0040\n",
      "\t- PointsAtStart: 0.0034\n",
      "\t- MaxCurvature: 0.0027\n",
      "\t- HumidityWindInteraction: 0.0015\n",
      "\t- MinElevation: 0.0000\n",
      "\t- Compound_WET: 0.0000\n"
     ]
    }
   ],
   "source": [
    "dt_feature_importance = pd.DataFrame({\n",
    "    'feature': features.columns,\n",
    "    'importance': dt_best_model.feature_importances_\n",
    "}).sort_values('importance', ascending=False)\n",
    "\n",
    "dict = {}\n",
    "for i in range(len(dt_feature_importance)):\n",
    "    dict[dt_feature_importance.iloc[i]['feature']] = dt_feature_importance.iloc[i]['importance']\n",
    "display_dict(\n",
    "                dict,\n",
    "                title=\"Decision Tree Feature Importance\"\n",
    "            )"
   ]
  },
  {
   "cell_type": "markdown",
   "metadata": {},
   "source": [
    "# Random Forest"
   ]
  },
  {
   "cell_type": "markdown",
   "metadata": {},
   "source": [
    "## Hyperparameter Tuning"
   ]
  },
  {
   "cell_type": "code",
   "execution_count": 8,
   "metadata": {},
   "outputs": [
    {
     "name": "stdout",
     "output_type": "stream",
     "text": [
      "Best Random Forest Parameters:\n",
      "\t- max_depth: 15.0000\n",
      "\t- min_samples_leaf: 100.0000\n",
      "\t- min_samples_split: 20.0000\n",
      "\t- n_estimators: 100.0000\n"
     ]
    }
   ],
   "source": [
    "rf_param_grid = {\n",
    "    'n_estimators': [50, 100],\n",
    "    'max_depth': [5, 10, 15],\n",
    "    'min_samples_split': [20, 50, 100],\n",
    "    'min_samples_leaf': [100, 200, 400]\n",
    "}\n",
    "\n",
    "rf_grid_search = GridSearchCV(\n",
    "    RandomForestRegressor(random_state=42), \n",
    "    rf_param_grid, \n",
    "    cv=5, \n",
    "    scoring='neg_mean_absolute_error'\n",
    ")\n",
    "rf_grid_search.fit(X_train, y_train)\n",
    "\n",
    "display_dict(\n",
    "                rf_grid_search.best_params_,\n",
    "                title=\"Best Random Forest Parameters:\"\n",
    "            )"
   ]
  },
  {
   "cell_type": "code",
   "execution_count": 9,
   "metadata": {},
   "outputs": [
    {
     "name": "stdout",
     "output_type": "stream",
     "text": [
      "Random Forest Metrics:\n",
      "\t- Mean Absolute Error: 1.6796\n",
      "\t- R-squared Score: 0.8922\n"
     ]
    }
   ],
   "source": [
    "rf_best_model = rf_grid_search.best_estimator_\n",
    "rf_pred = rf_best_model.predict(X_test)\n",
    "evaluate_model(y_test, rf_pred, \"Random Forest\")"
   ]
  },
  {
   "cell_type": "markdown",
   "metadata": {},
   "source": [
    "## Feature Importance"
   ]
  },
  {
   "cell_type": "code",
   "execution_count": 10,
   "metadata": {},
   "outputs": [
    {
     "name": "stdout",
     "output_type": "stream",
     "text": [
      "Random Forest Feature Importance\n",
      "\t- TrackLength: 0.5912\n",
      "\t- TotalElevationChange: 0.1177\n",
      "\t- ElevationSD: 0.0959\n",
      "\t- CurvatureSD: 0.0501\n",
      "\t- NumberOfCorners: 0.0473\n",
      "\t- SurfaceGripIndex: 0.0147\n",
      "\t- WindChillFactor: 0.0138\n",
      "\t- LapsLeft: 0.0124\n",
      "\t- Compound_INTERMEDIATE: 0.0110\n",
      "\t- AirTemp: 0.0098\n",
      "\t- Rain: 0.0092\n",
      "\t- TrackTemp: 0.0072\n",
      "\t- Compound_HARD: 0.0046\n",
      "\t- Compound_MEDIUM: 0.0041\n",
      "\t- TotalCurvature: 0.0035\n",
      "\t- MinElevation: 0.0021\n",
      "\t- MaxCurvature: 0.0020\n",
      "\t- Compound_SOFT: 0.0018\n",
      "\t- BestLapTimeDelta: 0.0008\n",
      "\t- PointsAtStart: 0.0005\n",
      "\t- HumidityWindInteraction: 0.0004\n",
      "\t- Compound_WET: 0.0000\n"
     ]
    }
   ],
   "source": [
    "rf_feature_importance = pd.DataFrame({\n",
    "    'feature': features.columns,\n",
    "    'importance': rf_best_model.feature_importances_\n",
    "}).sort_values('importance', ascending=False)\n",
    "\n",
    "dict = {}\n",
    "for i in range(len(rf_feature_importance)):\n",
    "    dict[rf_feature_importance.iloc[i]['feature']] = rf_feature_importance.iloc[i]['importance']\n",
    "display_dict(\n",
    "                dict,\n",
    "                title=\"Random Forest Feature Importance\"\n",
    "            )"
   ]
  },
  {
   "cell_type": "code",
   "execution_count": null,
   "metadata": {},
   "outputs": [],
   "source": []
  }
 ],
 "metadata": {
  "kernelspec": {
   "display_name": "f1",
   "language": "python",
   "name": "python3"
  },
  "language_info": {
   "codemirror_mode": {
    "name": "ipython",
    "version": 3
   },
   "file_extension": ".py",
   "mimetype": "text/x-python",
   "name": "python",
   "nbconvert_exporter": "python",
   "pygments_lexer": "ipython3",
   "version": "3.12.2"
  }
 },
 "nbformat": 4,
 "nbformat_minor": 2
}
